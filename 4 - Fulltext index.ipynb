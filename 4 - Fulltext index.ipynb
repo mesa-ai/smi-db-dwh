{
 "cells": [
  {
   "cell_type": "markdown",
   "metadata": {},
   "source": [
    "<div>\n",
    "    <img style=\"float:right;\" src=\"images/smi-logo.png\"/>\n",
    "    <div style=\"float:left;color:#58288C;\"><h1>Relational Databases and Data Warehousing</h1></div>\n",
    "</div>"
   ]
  },
  {
   "cell_type": "markdown",
   "metadata": {},
   "source": [
    "---\n",
    "# Notebook 4: Full text index\n",
    "In this notebook you learn to add a fulltext index to the existing SQlite database. We'll have a brief look under the hood to understand the difference to a regular table.\n",
    "\n",
    "Requirements:\n",
    "- You have completed SQL tutorial\n",
    "- You have completed Notebook #2\n",
    "---"
   ]
  },
  {
   "cell_type": "markdown",
   "metadata": {},
   "source": [
    "Let's load our existing database."
   ]
  },
  {
   "cell_type": "code",
   "execution_count": 93,
   "metadata": {},
   "outputs": [
    {
     "name": "stdout",
     "output_type": "stream",
     "text": [
      "The sql extension is already loaded. To reload it, use:\n",
      "  %reload_ext sql\n"
     ]
    }
   ],
   "source": [
    "%load_ext sql\n",
    "%sql sqlite:///my-database.db"
   ]
  },
  {
   "cell_type": "markdown",
   "metadata": {
    "tags": []
   },
   "source": [
    "---\n",
    "## <span style=\"color:#FF5D02;\">Assigment: Create a fts5 fulltext index table for reviews and do some queries</span>\n",
    "Create a fulltext index and import the reviews from table ``mock_reviews``. If unsure how to proceed, refer to the tutorial at https://www.sqlitetutorial.net/sqlite-full-text-search/."
   ]
  },
  {
   "cell_type": "code",
   "execution_count": 181,
   "metadata": {},
   "outputs": [
    {
     "name": "stdout",
     "output_type": "stream",
     "text": [
      " * sqlite:///my-database.db\n",
      "Done.\n",
      "Done.\n",
      "107 rows affected.\n"
     ]
    },
    {
     "data": {
      "text/plain": [
       "[]"
      ]
     },
     "execution_count": 181,
     "metadata": {},
     "output_type": "execute_result"
    }
   ],
   "source": [
    "%%sql\n",
    "\n",
    "drop table if exists fts_reviews;\n",
    "create virtual table fts_reviews using fts5(id, product_id, title,content);\n",
    "insert into fts_reviews (id, product_id, title, content) select id,product_id,title,content from mock_reviews;"
   ]
  },
  {
   "cell_type": "markdown",
   "metadata": {},
   "source": [
    "Now search for some terms like beautiful, problem, etc."
   ]
  },
  {
   "cell_type": "code",
   "execution_count": null,
   "metadata": {},
   "outputs": [],
   "source": [
    "%sql SELECT * ..."
   ]
  },
  {
   "cell_type": "markdown",
   "metadata": {},
   "source": [
    "## Lets' look under the hood\n",
    "We can access the index directly by creating another virtual table. It contains all tokens and a link to where they appear in the original data like a glossar for a big book."
   ]
  },
  {
   "cell_type": "code",
   "execution_count": 182,
   "metadata": {},
   "outputs": [
    {
     "name": "stdout",
     "output_type": "stream",
     "text": [
      " * sqlite:///my-database.db\n",
      "Done.\n",
      "Done.\n"
     ]
    },
    {
     "data": {
      "text/plain": [
       "[]"
      ]
     },
     "execution_count": 182,
     "metadata": {},
     "output_type": "execute_result"
    }
   ],
   "source": [
    "%%sql \n",
    "\n",
    "DROP TABLE IF EXISTS fts_tokens;\n",
    "create virtual table fts_tokens using fts5vocab(fts_reviews,instance);"
   ]
  },
  {
   "cell_type": "markdown",
   "metadata": {},
   "source": [
    "Let's analyze this! How would the fulltext index search for the word 'beautiful' in the column 'content'? It would look it up in its index. We can do this manually:"
   ]
  },
  {
   "cell_type": "code",
   "execution_count": 183,
   "metadata": {},
   "outputs": [
    {
     "name": "stdout",
     "output_type": "stream",
     "text": [
      " * sqlite:///my-database.db\n",
      "Done.\n"
     ]
    },
    {
     "data": {
      "text/html": [
       "<table>\n",
       "    <tr>\n",
       "        <th>term</th>\n",
       "        <th>doc</th>\n",
       "        <th>col</th>\n",
       "        <th>offset</th>\n",
       "    </tr>\n",
       "    <tr>\n",
       "        <td>beautiful</td>\n",
       "        <td>26</td>\n",
       "        <td>content</td>\n",
       "        <td>14</td>\n",
       "    </tr>\n",
       "    <tr>\n",
       "        <td>beautiful</td>\n",
       "        <td>39</td>\n",
       "        <td>content</td>\n",
       "        <td>20</td>\n",
       "    </tr>\n",
       "    <tr>\n",
       "        <td>beautiful</td>\n",
       "        <td>43</td>\n",
       "        <td>content</td>\n",
       "        <td>3</td>\n",
       "    </tr>\n",
       "    <tr>\n",
       "        <td>beautiful</td>\n",
       "        <td>53</td>\n",
       "        <td>content</td>\n",
       "        <td>6</td>\n",
       "    </tr>\n",
       "    <tr>\n",
       "        <td>beautiful</td>\n",
       "        <td>63</td>\n",
       "        <td>content</td>\n",
       "        <td>19</td>\n",
       "    </tr>\n",
       "    <tr>\n",
       "        <td>beautiful</td>\n",
       "        <td>68</td>\n",
       "        <td>content</td>\n",
       "        <td>7</td>\n",
       "    </tr>\n",
       "    <tr>\n",
       "        <td>beautiful</td>\n",
       "        <td>96</td>\n",
       "        <td>content</td>\n",
       "        <td>12</td>\n",
       "    </tr>\n",
       "</table>"
      ],
      "text/plain": [
       "[('beautiful', 26, 'content', 14),\n",
       " ('beautiful', 39, 'content', 20),\n",
       " ('beautiful', 43, 'content', 3),\n",
       " ('beautiful', 53, 'content', 6),\n",
       " ('beautiful', 63, 'content', 19),\n",
       " ('beautiful', 68, 'content', 7),\n",
       " ('beautiful', 96, 'content', 12)]"
      ]
     },
     "execution_count": 183,
     "metadata": {},
     "output_type": "execute_result"
    }
   ],
   "source": [
    "%sql select * from fts_tokens WHERE term=\"beautiful\" and col=\"content\" order by doc;"
   ]
  },
  {
   "cell_type": "markdown",
   "metadata": {},
   "source": [
    "Ok, the doc column gives us the id of the document, like the column 'id' as primary key before. Let's check the first three IDs, if 'beautiful' is actually included..."
   ]
  },
  {
   "cell_type": "code",
   "execution_count": 184,
   "metadata": {},
   "outputs": [
    {
     "name": "stdout",
     "output_type": "stream",
     "text": [
      " * sqlite:///my-database.db\n",
      "Done.\n"
     ]
    },
    {
     "data": {
      "text/html": [
       "<table>\n",
       "    <tr>\n",
       "        <th>rowid</th>\n",
       "        <th>content</th>\n",
       "    </tr>\n",
       "    <tr>\n",
       "        <td>26</td>\n",
       "        <td>I got this necklace for my sister and it was perfect. The silver is beautiful and the design is very elegant. She loves it!</td>\n",
       "    </tr>\n",
       "    <tr>\n",
       "        <td>39</td>\n",
       "        <td>This Kids Dress is adorable! My daughter loves it and she looks so cute in it. The lace detail is beautiful and the color is perfect. She wore this dress to her friend&#x27;s birthday party last week and she got lots of compliments!</td>\n",
       "    </tr>\n",
       "    <tr>\n",
       "        <td>43</td>\n",
       "        <td>This Necklace is beautiful - my girlfriend loves it! It&#x27;s made of high quality materials which makes it look expensive even though it wasn&#x27;t very expensive at all.</td>\n",
       "    </tr>\n",
       "</table>"
      ],
      "text/plain": [
       "[(26, 'I got this necklace for my sister and it was perfect. The silver is beautiful and the design is very elegant. She loves it!'),\n",
       " (39, \"This Kids Dress is adorable! My daughter loves it and she looks so cute in it. The lace detail is beautiful and the color is perfect. She wore this dress to her friend's birthday party last week and she got lots of compliments!\"),\n",
       " (43, \"This Necklace is beautiful - my girlfriend loves it! It's made of high quality materials which makes it look expensive even though it wasn't very expensive at all.\")]"
      ]
     },
     "execution_count": 184,
     "metadata": {},
     "output_type": "execute_result"
    }
   ],
   "source": [
    "%sql select rowid, content from fts_reviews where rowid in (26,39,43);"
   ]
  },
  {
   "cell_type": "markdown",
   "metadata": {},
   "source": [
    "---\n",
    "## <span style=\"color:#FF5D02;\">Assigment: Tagcloud</span>\n",
    "Besides making search for keywords way more flexible an faster, we can quickly generate statistics about tokens. In the simplest form that would be a tagcloud.\n",
    "\n",
    "Problem is, that fts5 does not include stop-words, so all trivial words like 'I', 'the', 'and' etc. are also included. As a work-around we ignore all words shorter than 5 characters for our tagcloud."
   ]
  },
  {
   "cell_type": "code",
   "execution_count": 185,
   "metadata": {},
   "outputs": [
    {
     "name": "stdout",
     "output_type": "stream",
     "text": [
      " * sqlite:///my-database.db\n",
      "Done.\n"
     ]
    },
    {
     "data": {
      "text/html": [
       "<table>\n",
       "    <tr>\n",
       "        <th>term</th>\n",
       "        <th>occurrences</th>\n",
       "    </tr>\n",
       "    <tr>\n",
       "        <td>quality</td>\n",
       "        <td>23</td>\n",
       "    </tr>\n",
       "    <tr>\n",
       "        <td>really</td>\n",
       "        <td>22</td>\n",
       "    </tr>\n",
       "    <tr>\n",
       "        <td>perfect</td>\n",
       "        <td>21</td>\n",
       "    </tr>\n",
       "    <tr>\n",
       "        <td>comfortable</td>\n",
       "        <td>20</td>\n",
       "    </tr>\n",
       "    <tr>\n",
       "        <td>recommend</td>\n",
       "        <td>16</td>\n",
       "    </tr>\n",
       "    <tr>\n",
       "        <td>beautiful</td>\n",
       "        <td>14</td>\n",
       "    </tr>\n",
       "    <tr>\n",
       "        <td>wearing</td>\n",
       "        <td>13</td>\n",
       "    </tr>\n",
       "    <tr>\n",
       "        <td>stylish</td>\n",
       "        <td>13</td>\n",
       "    </tr>\n",
       "    <tr>\n",
       "        <td>bought</td>\n",
       "        <td>13</td>\n",
       "    </tr>\n",
       "    <tr>\n",
       "        <td>highly</td>\n",
       "        <td>11</td>\n",
       "    </tr>\n",
       "</table>"
      ],
      "text/plain": [
       "[('quality', 23),\n",
       " ('really', 22),\n",
       " ('perfect', 21),\n",
       " ('comfortable', 20),\n",
       " ('recommend', 16),\n",
       " ('beautiful', 14),\n",
       " ('wearing', 13),\n",
       " ('stylish', 13),\n",
       " ('bought', 13),\n",
       " ('highly', 11)]"
      ]
     },
     "execution_count": 185,
     "metadata": {},
     "output_type": "execute_result"
    }
   ],
   "source": [
    "%%sql \n",
    "\n",
    "SELECT term, count(doc) as occurrences \n",
    "FROM fts_tokens \n",
    "WHERE length(term)>5 \n",
    "GROUP BY term \n",
    "ORDER BY occurrences DESC\n",
    "LIMIT 10;"
   ]
  },
  {
   "cell_type": "code",
   "execution_count": 198,
   "metadata": {},
   "outputs": [
    {
     "name": "stdout",
     "output_type": "stream",
     "text": [
      " * sqlite:///my-database.db\n",
      "Done.\n"
     ]
    },
    {
     "data": {
      "text/html": [
       "<table>\n",
       "    <tr>\n",
       "        <th>term</th>\n",
       "        <th>freq</th>\n",
       "    </tr>\n",
       "    <tr>\n",
       "        <td>recommend</td>\n",
       "        <td>3</td>\n",
       "    </tr>\n",
       "    <tr>\n",
       "        <td>highly</td>\n",
       "        <td>3</td>\n",
       "    </tr>\n",
       "    <tr>\n",
       "        <td>comfortable</td>\n",
       "        <td>3</td>\n",
       "    </tr>\n",
       "    <tr>\n",
       "        <td>stylish</td>\n",
       "        <td>2</td>\n",
       "    </tr>\n",
       "    <tr>\n",
       "        <td>running</td>\n",
       "        <td>2</td>\n",
       "    </tr>\n",
       "    <tr>\n",
       "        <td>compliments</td>\n",
       "        <td>2</td>\n",
       "    </tr>\n",
       "    <tr>\n",
       "        <td>wedding</td>\n",
       "        <td>1</td>\n",
       "    </tr>\n",
       "    <tr>\n",
       "        <td>trainers</td>\n",
       "        <td>1</td>\n",
       "    </tr>\n",
       "    <tr>\n",
       "        <td>support</td>\n",
       "        <td>1</td>\n",
       "    </tr>\n",
       "    <tr>\n",
       "        <td>really</td>\n",
       "        <td>1</td>\n",
       "    </tr>\n",
       "    <tr>\n",
       "        <td>provide</td>\n",
       "        <td>1</td>\n",
       "    </tr>\n",
       "    <tr>\n",
       "        <td>perfect</td>\n",
       "        <td>1</td>\n",
       "    </tr>\n",
       "    <tr>\n",
       "        <td>outfit</td>\n",
       "        <td>1</td>\n",
       "    </tr>\n",
       "    <tr>\n",
       "        <td>ordered</td>\n",
       "        <td>1</td>\n",
       "    </tr>\n",
       "    <tr>\n",
       "        <td>medium</td>\n",
       "        <td>1</td>\n",
       "    </tr>\n",
       "    <tr>\n",
       "        <td>lovely</td>\n",
       "        <td>1</td>\n",
       "    </tr>\n",
       "    <tr>\n",
       "        <td>lightweight</td>\n",
       "        <td>1</td>\n",
       "    </tr>\n",
       "    <tr>\n",
       "        <td>gorgeous</td>\n",
       "        <td>1</td>\n",
       "    </tr>\n",
       "    <tr>\n",
       "        <td>flattering</td>\n",
       "        <td>1</td>\n",
       "    </tr>\n",
       "    <tr>\n",
       "        <td>casual</td>\n",
       "        <td>1</td>\n",
       "    </tr>\n",
       "</table>"
      ],
      "text/plain": [
       "[('recommend', 3),\n",
       " ('highly', 3),\n",
       " ('comfortable', 3),\n",
       " ('stylish', 2),\n",
       " ('running', 2),\n",
       " ('compliments', 2),\n",
       " ('wedding', 1),\n",
       " ('trainers', 1),\n",
       " ('support', 1),\n",
       " ('really', 1),\n",
       " ('provide', 1),\n",
       " ('perfect', 1),\n",
       " ('outfit', 1),\n",
       " ('ordered', 1),\n",
       " ('medium', 1),\n",
       " ('lovely', 1),\n",
       " ('lightweight', 1),\n",
       " ('gorgeous', 1),\n",
       " ('flattering', 1),\n",
       " ('casual', 1)]"
      ]
     },
     "execution_count": 198,
     "metadata": {},
     "output_type": "execute_result"
    }
   ],
   "source": [
    "%%sql\n",
    "\n",
    "SELECT term, count(term) as freq\n",
    "FROM fts_tokens t \n",
    "INNER JOIN fts_reviews r ON r.rowid = t.doc\n",
    "WHERE length(term)>5 and\n",
    "r.id in (select id from dim_products where category=\"Accessories\")\n",
    "GROUP BY term\n",
    "ORDER by freq DESC;\n"
   ]
  },
  {
   "cell_type": "code",
   "execution_count": null,
   "metadata": {},
   "outputs": [],
   "source": []
  }
 ],
 "metadata": {
  "kernelspec": {
   "display_name": "Python 3 (ipykernel)",
   "language": "python",
   "name": "python3"
  },
  "language_info": {
   "codemirror_mode": {
    "name": "ipython",
    "version": 3
   },
   "file_extension": ".py",
   "mimetype": "text/x-python",
   "name": "python",
   "nbconvert_exporter": "python",
   "pygments_lexer": "ipython3",
   "version": "3.9.13"
  }
 },
 "nbformat": 4,
 "nbformat_minor": 4
}
